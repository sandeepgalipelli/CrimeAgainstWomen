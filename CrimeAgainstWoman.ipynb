{
 "cells": [
  {
   "cell_type": "code",
   "execution_count": 1,
   "id": "6e73ece5-e49d-472d-b0b6-69f037b36526",
   "metadata": {},
   "outputs": [],
   "source": [
    "import numpy as n\n",
    "import pandas as p\n",
    "import matplotlib.pyplot as plt"
   ]
  },
  {
   "cell_type": "code",
   "execution_count": 2,
   "id": "6342b59e-a1a4-4c10-b344-b5ef27ca4ee4",
   "metadata": {},
   "outputs": [
    {
     "data": {
      "text/html": [
       "<div>\n",
       "<style scoped>\n",
       "    .dataframe tbody tr th:only-of-type {\n",
       "        vertical-align: middle;\n",
       "    }\n",
       "\n",
       "    .dataframe tbody tr th {\n",
       "        vertical-align: top;\n",
       "    }\n",
       "\n",
       "    .dataframe thead th {\n",
       "        text-align: right;\n",
       "    }\n",
       "</style>\n",
       "<table border=\"1\" class=\"dataframe\">\n",
       "  <thead>\n",
       "    <tr style=\"text-align: right;\">\n",
       "      <th></th>\n",
       "      <th>State</th>\n",
       "      <th>Year</th>\n",
       "      <th>Rape</th>\n",
       "      <th>K&amp;A</th>\n",
       "      <th>DD</th>\n",
       "      <th>AoW</th>\n",
       "      <th>AoM</th>\n",
       "      <th>DV</th>\n",
       "      <th>WT</th>\n",
       "    </tr>\n",
       "  </thead>\n",
       "  <tbody>\n",
       "    <tr>\n",
       "      <th>0</th>\n",
       "      <td>ANDHRA PRADESH</td>\n",
       "      <td>2001</td>\n",
       "      <td>871</td>\n",
       "      <td>765</td>\n",
       "      <td>420</td>\n",
       "      <td>3544</td>\n",
       "      <td>2271</td>\n",
       "      <td>5791</td>\n",
       "      <td>7</td>\n",
       "    </tr>\n",
       "    <tr>\n",
       "      <th>1</th>\n",
       "      <td>ARUNACHAL PRADESH</td>\n",
       "      <td>2001</td>\n",
       "      <td>33</td>\n",
       "      <td>55</td>\n",
       "      <td>0</td>\n",
       "      <td>78</td>\n",
       "      <td>3</td>\n",
       "      <td>11</td>\n",
       "      <td>0</td>\n",
       "    </tr>\n",
       "    <tr>\n",
       "      <th>2</th>\n",
       "      <td>ASSAM</td>\n",
       "      <td>2001</td>\n",
       "      <td>817</td>\n",
       "      <td>1070</td>\n",
       "      <td>59</td>\n",
       "      <td>850</td>\n",
       "      <td>4</td>\n",
       "      <td>1248</td>\n",
       "      <td>0</td>\n",
       "    </tr>\n",
       "    <tr>\n",
       "      <th>3</th>\n",
       "      <td>BIHAR</td>\n",
       "      <td>2001</td>\n",
       "      <td>888</td>\n",
       "      <td>518</td>\n",
       "      <td>859</td>\n",
       "      <td>562</td>\n",
       "      <td>21</td>\n",
       "      <td>1558</td>\n",
       "      <td>83</td>\n",
       "    </tr>\n",
       "    <tr>\n",
       "      <th>4</th>\n",
       "      <td>CHHATTISGARH</td>\n",
       "      <td>2001</td>\n",
       "      <td>959</td>\n",
       "      <td>171</td>\n",
       "      <td>70</td>\n",
       "      <td>1763</td>\n",
       "      <td>161</td>\n",
       "      <td>840</td>\n",
       "      <td>0</td>\n",
       "    </tr>\n",
       "    <tr>\n",
       "      <th>...</th>\n",
       "      <td>...</td>\n",
       "      <td>...</td>\n",
       "      <td>...</td>\n",
       "      <td>...</td>\n",
       "      <td>...</td>\n",
       "      <td>...</td>\n",
       "      <td>...</td>\n",
       "      <td>...</td>\n",
       "      <td>...</td>\n",
       "    </tr>\n",
       "    <tr>\n",
       "      <th>731</th>\n",
       "      <td>D&amp;N Haveli</td>\n",
       "      <td>2021</td>\n",
       "      <td>1250</td>\n",
       "      <td>4083</td>\n",
       "      <td>141</td>\n",
       "      <td>2068</td>\n",
       "      <td>417</td>\n",
       "      <td>4731</td>\n",
       "      <td>4</td>\n",
       "    </tr>\n",
       "    <tr>\n",
       "      <th>732</th>\n",
       "      <td>Daman &amp; Diu</td>\n",
       "      <td>2021</td>\n",
       "      <td>315</td>\n",
       "      <td>904</td>\n",
       "      <td>16</td>\n",
       "      <td>1851</td>\n",
       "      <td>10</td>\n",
       "      <td>501</td>\n",
       "      <td>1</td>\n",
       "    </tr>\n",
       "    <tr>\n",
       "      <th>733</th>\n",
       "      <td>Delhi UT</td>\n",
       "      <td>2021</td>\n",
       "      <td>2</td>\n",
       "      <td>1</td>\n",
       "      <td>0</td>\n",
       "      <td>5</td>\n",
       "      <td>1</td>\n",
       "      <td>9</td>\n",
       "      <td>0</td>\n",
       "    </tr>\n",
       "    <tr>\n",
       "      <th>734</th>\n",
       "      <td>Lakshadweep</td>\n",
       "      <td>2021</td>\n",
       "      <td>0</td>\n",
       "      <td>0</td>\n",
       "      <td>0</td>\n",
       "      <td>1</td>\n",
       "      <td>1</td>\n",
       "      <td>3</td>\n",
       "      <td>0</td>\n",
       "    </tr>\n",
       "    <tr>\n",
       "      <th>735</th>\n",
       "      <td>Puducherry</td>\n",
       "      <td>2021</td>\n",
       "      <td>2</td>\n",
       "      <td>0</td>\n",
       "      <td>2</td>\n",
       "      <td>31</td>\n",
       "      <td>3</td>\n",
       "      <td>12</td>\n",
       "      <td>0</td>\n",
       "    </tr>\n",
       "  </tbody>\n",
       "</table>\n",
       "<p>736 rows × 9 columns</p>\n",
       "</div>"
      ],
      "text/plain": [
       "                 State  Year  Rape   K&A   DD   AoW   AoM    DV  WT\n",
       "0       ANDHRA PRADESH  2001   871   765  420  3544  2271  5791   7\n",
       "1    ARUNACHAL PRADESH  2001    33    55    0    78     3    11   0\n",
       "2                ASSAM  2001   817  1070   59   850     4  1248   0\n",
       "3                BIHAR  2001   888   518  859   562    21  1558  83\n",
       "4         CHHATTISGARH  2001   959   171   70  1763   161   840   0\n",
       "..                 ...   ...   ...   ...  ...   ...   ...   ...  ..\n",
       "731         D&N Haveli  2021  1250  4083  141  2068   417  4731   4\n",
       "732        Daman & Diu  2021   315   904   16  1851    10   501   1\n",
       "733           Delhi UT  2021     2     1    0     5     1     9   0\n",
       "734        Lakshadweep  2021     0     0    0     1     1     3   0\n",
       "735         Puducherry  2021     2     0    2    31     3    12   0\n",
       "\n",
       "[736 rows x 9 columns]"
      ]
     },
     "execution_count": 2,
     "metadata": {},
     "output_type": "execute_result"
    }
   ],
   "source": [
    "crimeAw= p.read_csv(r\"C:\\Users\\admin\\Downloads\\archive\\CrimesOnWomenData.csv\")\n",
    "crimeAw.drop(['Unnamed: 0'], axis=1, inplace=True)\n",
    "crimeAw"
   ]
  },
  {
   "cell_type": "code",
   "execution_count": 3,
   "id": "322a45c6-7ce6-426d-9a20-221d184c7296",
   "metadata": {},
   "outputs": [
    {
     "data": {
      "text/html": [
       "<div>\n",
       "<style scoped>\n",
       "    .dataframe tbody tr th:only-of-type {\n",
       "        vertical-align: middle;\n",
       "    }\n",
       "\n",
       "    .dataframe tbody tr th {\n",
       "        vertical-align: top;\n",
       "    }\n",
       "\n",
       "    .dataframe thead th {\n",
       "        text-align: right;\n",
       "    }\n",
       "</style>\n",
       "<table border=\"1\" class=\"dataframe\">\n",
       "  <thead>\n",
       "    <tr style=\"text-align: right;\">\n",
       "      <th></th>\n",
       "      <th>State</th>\n",
       "      <th>Year</th>\n",
       "      <th>Rape</th>\n",
       "      <th>K&amp;A</th>\n",
       "      <th>DD</th>\n",
       "      <th>AoW</th>\n",
       "      <th>AoM</th>\n",
       "      <th>DV</th>\n",
       "      <th>WT</th>\n",
       "    </tr>\n",
       "  </thead>\n",
       "  <tbody>\n",
       "    <tr>\n",
       "      <th>0</th>\n",
       "      <td>ANDHRA PRADESH</td>\n",
       "      <td>2001</td>\n",
       "      <td>871</td>\n",
       "      <td>765</td>\n",
       "      <td>420</td>\n",
       "      <td>3544</td>\n",
       "      <td>2271</td>\n",
       "      <td>5791</td>\n",
       "      <td>7</td>\n",
       "    </tr>\n",
       "    <tr>\n",
       "      <th>1</th>\n",
       "      <td>ARUNACHAL PRADESH</td>\n",
       "      <td>2001</td>\n",
       "      <td>33</td>\n",
       "      <td>55</td>\n",
       "      <td>0</td>\n",
       "      <td>78</td>\n",
       "      <td>3</td>\n",
       "      <td>11</td>\n",
       "      <td>0</td>\n",
       "    </tr>\n",
       "    <tr>\n",
       "      <th>2</th>\n",
       "      <td>ASSAM</td>\n",
       "      <td>2001</td>\n",
       "      <td>817</td>\n",
       "      <td>1070</td>\n",
       "      <td>59</td>\n",
       "      <td>850</td>\n",
       "      <td>4</td>\n",
       "      <td>1248</td>\n",
       "      <td>0</td>\n",
       "    </tr>\n",
       "    <tr>\n",
       "      <th>3</th>\n",
       "      <td>BIHAR</td>\n",
       "      <td>2001</td>\n",
       "      <td>888</td>\n",
       "      <td>518</td>\n",
       "      <td>859</td>\n",
       "      <td>562</td>\n",
       "      <td>21</td>\n",
       "      <td>1558</td>\n",
       "      <td>83</td>\n",
       "    </tr>\n",
       "    <tr>\n",
       "      <th>4</th>\n",
       "      <td>CHHATTISGARH</td>\n",
       "      <td>2001</td>\n",
       "      <td>959</td>\n",
       "      <td>171</td>\n",
       "      <td>70</td>\n",
       "      <td>1763</td>\n",
       "      <td>161</td>\n",
       "      <td>840</td>\n",
       "      <td>0</td>\n",
       "    </tr>\n",
       "  </tbody>\n",
       "</table>\n",
       "</div>"
      ],
      "text/plain": [
       "               State  Year  Rape   K&A   DD   AoW   AoM    DV  WT\n",
       "0     ANDHRA PRADESH  2001   871   765  420  3544  2271  5791   7\n",
       "1  ARUNACHAL PRADESH  2001    33    55    0    78     3    11   0\n",
       "2              ASSAM  2001   817  1070   59   850     4  1248   0\n",
       "3              BIHAR  2001   888   518  859   562    21  1558  83\n",
       "4       CHHATTISGARH  2001   959   171   70  1763   161   840   0"
      ]
     },
     "execution_count": 3,
     "metadata": {},
     "output_type": "execute_result"
    }
   ],
   "source": [
    "crimeAw.head()"
   ]
  },
  {
   "cell_type": "code",
   "execution_count": 4,
   "id": "0d65a750-25b0-493b-9c91-f0af398bdb03",
   "metadata": {},
   "outputs": [
    {
     "data": {
      "text/html": [
       "<div>\n",
       "<style scoped>\n",
       "    .dataframe tbody tr th:only-of-type {\n",
       "        vertical-align: middle;\n",
       "    }\n",
       "\n",
       "    .dataframe tbody tr th {\n",
       "        vertical-align: top;\n",
       "    }\n",
       "\n",
       "    .dataframe thead th {\n",
       "        text-align: right;\n",
       "    }\n",
       "</style>\n",
       "<table border=\"1\" class=\"dataframe\">\n",
       "  <thead>\n",
       "    <tr style=\"text-align: right;\">\n",
       "      <th></th>\n",
       "      <th>State</th>\n",
       "      <th>Year</th>\n",
       "      <th>Rape</th>\n",
       "      <th>K&amp;A</th>\n",
       "      <th>DD</th>\n",
       "      <th>AoW</th>\n",
       "      <th>AoM</th>\n",
       "      <th>DV</th>\n",
       "      <th>WT</th>\n",
       "    </tr>\n",
       "  </thead>\n",
       "  <tbody>\n",
       "    <tr>\n",
       "      <th>731</th>\n",
       "      <td>D&amp;N Haveli</td>\n",
       "      <td>2021</td>\n",
       "      <td>1250</td>\n",
       "      <td>4083</td>\n",
       "      <td>141</td>\n",
       "      <td>2068</td>\n",
       "      <td>417</td>\n",
       "      <td>4731</td>\n",
       "      <td>4</td>\n",
       "    </tr>\n",
       "    <tr>\n",
       "      <th>732</th>\n",
       "      <td>Daman &amp; Diu</td>\n",
       "      <td>2021</td>\n",
       "      <td>315</td>\n",
       "      <td>904</td>\n",
       "      <td>16</td>\n",
       "      <td>1851</td>\n",
       "      <td>10</td>\n",
       "      <td>501</td>\n",
       "      <td>1</td>\n",
       "    </tr>\n",
       "    <tr>\n",
       "      <th>733</th>\n",
       "      <td>Delhi UT</td>\n",
       "      <td>2021</td>\n",
       "      <td>2</td>\n",
       "      <td>1</td>\n",
       "      <td>0</td>\n",
       "      <td>5</td>\n",
       "      <td>1</td>\n",
       "      <td>9</td>\n",
       "      <td>0</td>\n",
       "    </tr>\n",
       "    <tr>\n",
       "      <th>734</th>\n",
       "      <td>Lakshadweep</td>\n",
       "      <td>2021</td>\n",
       "      <td>0</td>\n",
       "      <td>0</td>\n",
       "      <td>0</td>\n",
       "      <td>1</td>\n",
       "      <td>1</td>\n",
       "      <td>3</td>\n",
       "      <td>0</td>\n",
       "    </tr>\n",
       "    <tr>\n",
       "      <th>735</th>\n",
       "      <td>Puducherry</td>\n",
       "      <td>2021</td>\n",
       "      <td>2</td>\n",
       "      <td>0</td>\n",
       "      <td>2</td>\n",
       "      <td>31</td>\n",
       "      <td>3</td>\n",
       "      <td>12</td>\n",
       "      <td>0</td>\n",
       "    </tr>\n",
       "  </tbody>\n",
       "</table>\n",
       "</div>"
      ],
      "text/plain": [
       "           State  Year  Rape   K&A   DD   AoW  AoM    DV  WT\n",
       "731   D&N Haveli  2021  1250  4083  141  2068  417  4731   4\n",
       "732  Daman & Diu  2021   315   904   16  1851   10   501   1\n",
       "733     Delhi UT  2021     2     1    0     5    1     9   0\n",
       "734  Lakshadweep  2021     0     0    0     1    1     3   0\n",
       "735   Puducherry  2021     2     0    2    31    3    12   0"
      ]
     },
     "execution_count": 4,
     "metadata": {},
     "output_type": "execute_result"
    }
   ],
   "source": [
    "crimeAw.tail()"
   ]
  },
  {
   "cell_type": "code",
   "execution_count": 5,
   "id": "1466ce8c-ef6d-46c0-81de-502cae76f3d3",
   "metadata": {},
   "outputs": [
    {
     "data": {
      "text/html": [
       "<div>\n",
       "<style scoped>\n",
       "    .dataframe tbody tr th:only-of-type {\n",
       "        vertical-align: middle;\n",
       "    }\n",
       "\n",
       "    .dataframe tbody tr th {\n",
       "        vertical-align: top;\n",
       "    }\n",
       "\n",
       "    .dataframe thead th {\n",
       "        text-align: right;\n",
       "    }\n",
       "</style>\n",
       "<table border=\"1\" class=\"dataframe\">\n",
       "  <thead>\n",
       "    <tr style=\"text-align: right;\">\n",
       "      <th></th>\n",
       "      <th>count</th>\n",
       "      <th>mean</th>\n",
       "      <th>std</th>\n",
       "      <th>min</th>\n",
       "      <th>25%</th>\n",
       "      <th>50%</th>\n",
       "      <th>75%</th>\n",
       "      <th>max</th>\n",
       "    </tr>\n",
       "  </thead>\n",
       "  <tbody>\n",
       "    <tr>\n",
       "      <th>Rape</th>\n",
       "      <td>736.0</td>\n",
       "      <td>727.855978</td>\n",
       "      <td>977.024945</td>\n",
       "      <td>0.0</td>\n",
       "      <td>35.00</td>\n",
       "      <td>348.5</td>\n",
       "      <td>1069.00</td>\n",
       "      <td>6337.0</td>\n",
       "    </tr>\n",
       "    <tr>\n",
       "      <th>K&amp;A</th>\n",
       "      <td>736.0</td>\n",
       "      <td>1134.542120</td>\n",
       "      <td>1993.536828</td>\n",
       "      <td>0.0</td>\n",
       "      <td>24.75</td>\n",
       "      <td>290.0</td>\n",
       "      <td>1216.00</td>\n",
       "      <td>15381.0</td>\n",
       "    </tr>\n",
       "    <tr>\n",
       "      <th>DD</th>\n",
       "      <td>736.0</td>\n",
       "      <td>215.692935</td>\n",
       "      <td>424.927334</td>\n",
       "      <td>0.0</td>\n",
       "      <td>1.00</td>\n",
       "      <td>29.0</td>\n",
       "      <td>259.00</td>\n",
       "      <td>2524.0</td>\n",
       "    </tr>\n",
       "    <tr>\n",
       "      <th>AoW</th>\n",
       "      <td>736.0</td>\n",
       "      <td>1579.115489</td>\n",
       "      <td>2463.962518</td>\n",
       "      <td>0.0</td>\n",
       "      <td>34.00</td>\n",
       "      <td>387.5</td>\n",
       "      <td>2122.25</td>\n",
       "      <td>14853.0</td>\n",
       "    </tr>\n",
       "    <tr>\n",
       "      <th>AoM</th>\n",
       "      <td>736.0</td>\n",
       "      <td>332.722826</td>\n",
       "      <td>806.024551</td>\n",
       "      <td>0.0</td>\n",
       "      <td>3.00</td>\n",
       "      <td>31.0</td>\n",
       "      <td>277.50</td>\n",
       "      <td>9422.0</td>\n",
       "    </tr>\n",
       "    <tr>\n",
       "      <th>DV</th>\n",
       "      <td>736.0</td>\n",
       "      <td>2595.078804</td>\n",
       "      <td>4042.004953</td>\n",
       "      <td>0.0</td>\n",
       "      <td>13.00</td>\n",
       "      <td>678.5</td>\n",
       "      <td>3545.00</td>\n",
       "      <td>23278.0</td>\n",
       "    </tr>\n",
       "    <tr>\n",
       "      <th>WT</th>\n",
       "      <td>736.0</td>\n",
       "      <td>28.744565</td>\n",
       "      <td>79.999660</td>\n",
       "      <td>0.0</td>\n",
       "      <td>0.00</td>\n",
       "      <td>0.0</td>\n",
       "      <td>15.00</td>\n",
       "      <td>549.0</td>\n",
       "    </tr>\n",
       "  </tbody>\n",
       "</table>\n",
       "</div>"
      ],
      "text/plain": [
       "      count         mean          std  min    25%    50%      75%      max\n",
       "Rape  736.0   727.855978   977.024945  0.0  35.00  348.5  1069.00   6337.0\n",
       "K&A   736.0  1134.542120  1993.536828  0.0  24.75  290.0  1216.00  15381.0\n",
       "DD    736.0   215.692935   424.927334  0.0   1.00   29.0   259.00   2524.0\n",
       "AoW   736.0  1579.115489  2463.962518  0.0  34.00  387.5  2122.25  14853.0\n",
       "AoM   736.0   332.722826   806.024551  0.0   3.00   31.0   277.50   9422.0\n",
       "DV    736.0  2595.078804  4042.004953  0.0  13.00  678.5  3545.00  23278.0\n",
       "WT    736.0    28.744565    79.999660  0.0   0.00    0.0    15.00    549.0"
      ]
     },
     "execution_count": 5,
     "metadata": {},
     "output_type": "execute_result"
    }
   ],
   "source": [
    "crimeD = crimeAw.drop('Year',axis=1).describe().transpose()\n",
    "crimeD"
   ]
  },
  {
   "cell_type": "code",
   "execution_count": 6,
   "id": "2720ad6c-d023-42ef-8a1b-56fa8145d995",
   "metadata": {},
   "outputs": [
    {
     "data": {
      "text/plain": [
       "State    0\n",
       "Year     0\n",
       "Rape     0\n",
       "K&A      0\n",
       "DD       0\n",
       "AoW      0\n",
       "AoM      0\n",
       "DV       0\n",
       "WT       0\n",
       "dtype: int64"
      ]
     },
     "execution_count": 6,
     "metadata": {},
     "output_type": "execute_result"
    }
   ],
   "source": [
    "crimeAw.isnull().sum()"
   ]
  },
  {
   "cell_type": "code",
   "execution_count": 7,
   "id": "8c172964-6ea5-472b-b948-664a39bd8a7b",
   "metadata": {},
   "outputs": [
    {
     "data": {
      "text/plain": [
       "0"
      ]
     },
     "execution_count": 7,
     "metadata": {},
     "output_type": "execute_result"
    }
   ],
   "source": [
    "crimeAw.duplicated().sum()"
   ]
  },
  {
   "cell_type": "code",
   "execution_count": 8,
   "id": "91572f37-13cf-4c59-a0b2-585505108b64",
   "metadata": {},
   "outputs": [
    {
     "data": {
      "text/plain": [
       "State    object\n",
       "Year      int64\n",
       "Rape      int64\n",
       "K&A       int64\n",
       "DD        int64\n",
       "AoW       int64\n",
       "AoM       int64\n",
       "DV        int64\n",
       "WT        int64\n",
       "dtype: object"
      ]
     },
     "execution_count": 8,
     "metadata": {},
     "output_type": "execute_result"
    }
   ],
   "source": [
    "crimeAw.dtypes"
   ]
  },
  {
   "cell_type": "code",
   "execution_count": 17,
   "id": "ade817a0-4c96-49e9-bb18-099cc0585083",
   "metadata": {},
   "outputs": [
    {
     "data": {
      "text/plain": [
       "70"
      ]
     },
     "execution_count": 17,
     "metadata": {},
     "output_type": "execute_result"
    }
   ],
   "source": [
    "crimeAw['State'].nunique()"
   ]
  },
  {
   "cell_type": "code",
   "execution_count": 41,
   "id": "bad8f1c7-dc1c-47ae-8fa9-2cb0b260994b",
   "metadata": {},
   "outputs": [
    {
     "data": {
      "text/plain": [
       "37"
      ]
     },
     "execution_count": 41,
     "metadata": {},
     "output_type": "execute_result"
    }
   ],
   "source": [
    "crimeAw['State']=crimeAw['State'].str.upper()\n",
    "crimeAw['State'].nunique()"
   ]
  },
  {
   "cell_type": "code",
   "execution_count": 43,
   "id": "b6c59a5d-aa33-4d23-b016-fe5304aa0c93",
   "metadata": {},
   "outputs": [
    {
     "data": {
      "text/plain": [
       "array(['ANDHRA PRADESH', 'ARUNACHAL PRADESH', 'ASSAM', 'BIHAR',\n",
       "       'CHHATTISGARH', 'GOA', 'GUJARAT', 'HARYANA', 'HIMACHAL PRADESH',\n",
       "       'JAMMU & KASHMIR', 'JHARKHAND', 'KARNATAKA', 'KERALA',\n",
       "       'MADHYA PRADESH', 'MAHARASHTRA', 'MANIPUR', 'MEGHALAYA', 'MIZORAM',\n",
       "       'NAGALAND', 'ODISHA', 'PUNJAB', 'RAJASTHAN', 'SIKKIM',\n",
       "       'TAMIL NADU', 'TRIPURA', 'UTTAR PRADESH', 'UTTARAKHAND',\n",
       "       'WEST BENGAL', 'A & N ISLANDS', 'CHANDIGARH', 'D & N HAVELI',\n",
       "       'DAMAN & DIU', 'LAKSHADWEEP', 'PUDUCHERRY', 'TELANGANA',\n",
       "       'D&N HAVELI', 'DELHI UT'], dtype=object)"
      ]
     },
     "execution_count": 43,
     "metadata": {},
     "output_type": "execute_result"
    }
   ],
   "source": [
    "crimeAw['State'].unique()"
   ]
  },
  {
   "cell_type": "code",
   "execution_count": 45,
   "id": "45b0f26e-6cd3-4b17-9e06-c8861d339adc",
   "metadata": {},
   "outputs": [
    {
     "data": {
      "text/plain": [
       "36"
      ]
     },
     "execution_count": 45,
     "metadata": {},
     "output_type": "execute_result"
    }
   ],
   "source": [
    "crimeAw['State'] = crimeAw['State'].str.replace('D&N HAVELI', 'D & N HAVELI')\n",
    "crimeAw['State'].nunique()"
   ]
  },
  {
   "cell_type": "code",
   "execution_count": 11,
   "id": "99e642c9-663a-4d19-a6c0-d53a261e443e",
   "metadata": {},
   "outputs": [
    {
     "data": {
      "text/plain": [
       "Rape     535702\n",
       "K&A      835023\n",
       "DD       158750\n",
       "AoW     1162229\n",
       "AoM      244884\n",
       "DV      1909978\n",
       "WT        21156\n",
       "dtype: int64"
      ]
     },
     "execution_count": 11,
     "metadata": {},
     "output_type": "execute_result"
    }
   ],
   "source": [
    "crime_distribution = crimeAw.drop(['State', 'Year'], axis=1).sum()\n",
    "crime_distribution"
   ]
  },
  {
   "cell_type": "code",
   "execution_count": 22,
   "id": "3a082211-2e46-44a3-b845-a19c00d148ec",
   "metadata": {},
   "outputs": [],
   "source": [
    "crimeAw['State'] = crimeAw['State'].str.replace('D&N HAVELI', 'D & N HAVELI')"
   ]
  },
  {
   "cell_type": "code",
   "execution_count": 12,
   "id": "ec5fc09f-63a6-4e6c-8013-768e25e4c93e",
   "metadata": {},
   "outputs": [
    {
     "data": {
      "text/html": [
       "<div>\n",
       "<style scoped>\n",
       "    .dataframe tbody tr th:only-of-type {\n",
       "        vertical-align: middle;\n",
       "    }\n",
       "\n",
       "    .dataframe tbody tr th {\n",
       "        vertical-align: top;\n",
       "    }\n",
       "\n",
       "    .dataframe thead th {\n",
       "        text-align: right;\n",
       "    }\n",
       "</style>\n",
       "<table border=\"1\" class=\"dataframe\">\n",
       "  <thead>\n",
       "    <tr style=\"text-align: right;\">\n",
       "      <th></th>\n",
       "      <th>Rape</th>\n",
       "      <th>K&amp;A</th>\n",
       "      <th>DD</th>\n",
       "      <th>AoW</th>\n",
       "      <th>AoM</th>\n",
       "      <th>DV</th>\n",
       "      <th>WT</th>\n",
       "    </tr>\n",
       "  </thead>\n",
       "  <tbody>\n",
       "    <tr>\n",
       "      <th>Rape</th>\n",
       "      <td>1.000000</td>\n",
       "      <td>0.700730</td>\n",
       "      <td>0.553497</td>\n",
       "      <td>0.804336</td>\n",
       "      <td>0.458025</td>\n",
       "      <td>0.680321</td>\n",
       "      <td>0.219218</td>\n",
       "    </tr>\n",
       "    <tr>\n",
       "      <th>K&amp;A</th>\n",
       "      <td>0.700730</td>\n",
       "      <td>1.000000</td>\n",
       "      <td>0.691524</td>\n",
       "      <td>0.671159</td>\n",
       "      <td>0.355703</td>\n",
       "      <td>0.685999</td>\n",
       "      <td>0.179016</td>\n",
       "    </tr>\n",
       "    <tr>\n",
       "      <th>DD</th>\n",
       "      <td>0.553497</td>\n",
       "      <td>0.691524</td>\n",
       "      <td>1.000000</td>\n",
       "      <td>0.456012</td>\n",
       "      <td>0.422970</td>\n",
       "      <td>0.487465</td>\n",
       "      <td>0.093254</td>\n",
       "    </tr>\n",
       "    <tr>\n",
       "      <th>AoW</th>\n",
       "      <td>0.804336</td>\n",
       "      <td>0.671159</td>\n",
       "      <td>0.456012</td>\n",
       "      <td>1.000000</td>\n",
       "      <td>0.521432</td>\n",
       "      <td>0.631558</td>\n",
       "      <td>0.284338</td>\n",
       "    </tr>\n",
       "    <tr>\n",
       "      <th>AoM</th>\n",
       "      <td>0.458025</td>\n",
       "      <td>0.355703</td>\n",
       "      <td>0.422970</td>\n",
       "      <td>0.521432</td>\n",
       "      <td>1.000000</td>\n",
       "      <td>0.419300</td>\n",
       "      <td>0.260077</td>\n",
       "    </tr>\n",
       "    <tr>\n",
       "      <th>DV</th>\n",
       "      <td>0.680321</td>\n",
       "      <td>0.685999</td>\n",
       "      <td>0.487465</td>\n",
       "      <td>0.631558</td>\n",
       "      <td>0.419300</td>\n",
       "      <td>1.000000</td>\n",
       "      <td>0.280839</td>\n",
       "    </tr>\n",
       "    <tr>\n",
       "      <th>WT</th>\n",
       "      <td>0.219218</td>\n",
       "      <td>0.179016</td>\n",
       "      <td>0.093254</td>\n",
       "      <td>0.284338</td>\n",
       "      <td>0.260077</td>\n",
       "      <td>0.280839</td>\n",
       "      <td>1.000000</td>\n",
       "    </tr>\n",
       "  </tbody>\n",
       "</table>\n",
       "</div>"
      ],
      "text/plain": [
       "          Rape       K&A        DD       AoW       AoM        DV        WT\n",
       "Rape  1.000000  0.700730  0.553497  0.804336  0.458025  0.680321  0.219218\n",
       "K&A   0.700730  1.000000  0.691524  0.671159  0.355703  0.685999  0.179016\n",
       "DD    0.553497  0.691524  1.000000  0.456012  0.422970  0.487465  0.093254\n",
       "AoW   0.804336  0.671159  0.456012  1.000000  0.521432  0.631558  0.284338\n",
       "AoM   0.458025  0.355703  0.422970  0.521432  1.000000  0.419300  0.260077\n",
       "DV    0.680321  0.685999  0.487465  0.631558  0.419300  1.000000  0.280839\n",
       "WT    0.219218  0.179016  0.093254  0.284338  0.260077  0.280839  1.000000"
      ]
     },
     "execution_count": 12,
     "metadata": {},
     "output_type": "execute_result"
    }
   ],
   "source": [
    "correlation_matrix = crimeAw.drop(['State', 'Year'], axis=1).corr()\n",
    "correlation_matrix"
   ]
  },
  {
   "cell_type": "code",
   "execution_count": 48,
   "id": "0c8032a9-e651-4872-b744-2e5e510c8d18",
   "metadata": {},
   "outputs": [
    {
     "data": {
      "text/plain": [
       "<Axes: xlabel='State'>"
      ]
     },
     "execution_count": 48,
     "metadata": {},
     "output_type": "execute_result"
    },
    {
     "data": {
      "image/png": "[encoded data removed]",
      "text/plain": [
       "<Figure size 640x480 with 1 Axes>"
      ]
     },
     "metadata": {},
     "output_type": "display_data"
    }
   ],
   "source": [
    "crimes= crimeAw.drop('Year',axis =1)\n",
    "crimes.groupby('State').sum().sort_values('Rape',ascending=False).head(10).plot(kind='bar',stacked=True)\n"
   ]
  },
  {
   "cell_type": "code",
   "execution_count": 14,
   "id": "ce1c9980-f94e-4487-a2e8-43eaa023545d",
   "metadata": {},
   "outputs": [
    {
     "data": {
      "text/plain": [
       "<Axes: xlabel='Year'>"
      ]
     },
     "execution_count": 14,
     "metadata": {},
     "output_type": "execute_result"
    },
    {
     "data": {
      "image/png": "[encoded data removed]",
      "text/plain": [
       "<Figure size 640x480 with 1 Axes>"
      ]
     },
     "metadata": {},
     "output_type": "display_data"
    }
   ],
   "source": [
    "crimeAw.drop('State',axis=1).groupby('Year').sum().plot(kind='bar',stacked=True)"
   ]
  },
  {
   "cell_type": "code",
   "execution_count": 50,
   "id": "37b42a42-d448-42db-b9b3-a340c104dc12",
   "metadata": {},
   "outputs": [
    {
     "data": {
      "text/plain": [
       "<Axes: >"
      ]
     },
     "execution_count": 50,
     "metadata": {},
     "output_type": "execute_result"
    },
    {
     "data": {
      "image/png": "[encoded data removed]",
      "text/plain": [
       "<Figure size 640x480 with 1 Axes>"
      ]
     },
     "metadata": {},
     "output_type": "display_data"
    }
   ],
   "source": [
    "crimeDistribution = crimeAw.drop(['State','Year'],axis =1).sum()\n",
    "crimeDistribution.plot(kind='bar')"
   ]
  },
  {
   "cell_type": "code",
   "execution_count": null,
   "id": "04f58988-3758-4ce3-ac44-70566cd72599",
   "metadata": {},
   "outputs": [],
   "source": []
  }
 ],
 "metadata": {
  "kernelspec": {
   "display_name": "Python 3 (ipykernel)",
   "language": "python",
   "name": "python3"
  },
  "language_info": {
   "codemirror_mode": {
    "name": "ipython",
    "version": 3
   },
   "file_extension": ".py",
   "mimetype": "text/x-python",
   "name": "python",
   "nbconvert_exporter": "python",
   "pygments_lexer": "ipython3",
   "version": "3.11.7"
  }
 },
 "nbformat": 4,
 "nbformat_minor": 5
}
